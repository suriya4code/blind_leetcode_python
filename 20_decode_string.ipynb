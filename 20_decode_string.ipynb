{
 "cells": [
  {
   "cell_type": "code",
   "execution_count": 5,
   "metadata": {},
   "outputs": [
    {
     "data": {
      "text/plain": [
       "'cb'"
      ]
     },
     "execution_count": 5,
     "metadata": {},
     "output_type": "execute_result"
    }
   ],
   "source": [
    "\"\"\"\n",
    "Input: s = \"3[a]2[bc]\"\n",
    "Output: \"aaabcbc\"\n",
    "\n",
    "\n",
    "\"\"\"\n",
    "\n",
    "def decodeString(s:str):\n",
    "    i = len(s)-1\n",
    "    res = \"\"\n",
    "    word = \"\"\n",
    "    count = 1\n",
    "    while i>1:\n",
    "        if s[i] == \"[\":\n",
    "            for i in range(count):\n",
    "                res += word\n",
    "        elif s[i] == \"]\":\n",
    "            word = \"\"\n",
    "        elif s[i].isnumeric():\n",
    "            count = s[i]\n",
    "        else:\n",
    "            word += s[i]\n",
    "        i -= 1\n",
    "    return res\n",
    "\n",
    "\n",
    "s = \"3[a]2[bc]\"\n",
    "decodeString(s)"
   ]
  }
 ],
 "metadata": {
  "kernelspec": {
   "display_name": "Python 3",
   "language": "python",
   "name": "python3"
  },
  "language_info": {
   "codemirror_mode": {
    "name": "ipython",
    "version": 3
   },
   "file_extension": ".py",
   "mimetype": "text/x-python",
   "name": "python",
   "nbconvert_exporter": "python",
   "pygments_lexer": "ipython3",
   "version": "3.10.12"
  }
 },
 "nbformat": 4,
 "nbformat_minor": 2
}
