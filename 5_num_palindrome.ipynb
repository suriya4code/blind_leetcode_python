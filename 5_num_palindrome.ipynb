{
 "cells": [
  {
   "cell_type": "markdown",
   "metadata": {},
   "source": [
    "# Palindrome Number\n",
    "\n",
    "## https://leetcode.com/problems/palindrome-number/"
   ]
  },
  {
   "cell_type": "code",
   "execution_count": 47,
   "metadata": {},
   "outputs": [
    {
     "data": {
      "text/plain": [
       "True"
      ]
     },
     "execution_count": 47,
     "metadata": {},
     "output_type": "execute_result"
    }
   ],
   "source": [
    "def is_palindrome_num(x):\n",
    "    \"\"\"\n",
    "    121 -> yes\n",
    "    -121 -> no\n",
    "    \"\"\"\n",
    "    n = x\n",
    "    if n < 0:\n",
    "        return False\n",
    "    i = 0\n",
    "    ret = 0\n",
    "    while n > 0:\n",
    "        num = n%10\n",
    "        ret = (ret*10) + num\n",
    "        n = n//10\n",
    "        i+=1\n",
    "    return ret == x\n",
    "\n",
    "is_palindrome_num(121)"
   ]
  }
 ],
 "metadata": {
  "kernelspec": {
   "display_name": "Python 3",
   "language": "python",
   "name": "python3"
  },
  "language_info": {
   "codemirror_mode": {
    "name": "ipython",
    "version": 3
   },
   "file_extension": ".py",
   "mimetype": "text/x-python",
   "name": "python",
   "nbconvert_exporter": "python",
   "pygments_lexer": "ipython3",
   "version": "3.10.12"
  }
 },
 "nbformat": 4,
 "nbformat_minor": 2
}
