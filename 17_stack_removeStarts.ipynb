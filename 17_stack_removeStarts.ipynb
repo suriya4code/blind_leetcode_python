{
 "cells": [
  {
   "cell_type": "code",
   "execution_count": 12,
   "metadata": {},
   "outputs": [],
   "source": [
    "\"\"\"\n",
    "Input: s = \"leet**cod*e\"\n",
    "Output: \"lecoe\"\n",
    "\n",
    "Input: s = \"erase*****\"\n",
    "Output: \"\"\n",
    "\n",
    "\"\"\"\n",
    "def removeStars(s):\n",
    "    ans = []\n",
    "    for i in s:\n",
    "        if i == \"*\":\n",
    "            ans.pop()\n",
    "        else:\n",
    "            ans.append(i)\n",
    "    return \"\".join(ans)\n",
    "    "
   ]
  },
  {
   "cell_type": "code",
   "execution_count": 15,
   "metadata": {},
   "outputs": [
    {
     "data": {
      "text/plain": [
       "'lecoe'"
      ]
     },
     "execution_count": 15,
     "metadata": {},
     "output_type": "execute_result"
    }
   ],
   "source": [
    "s = \"leet**cod*e\"\n",
    "removeStars(s)"
   ]
  }
 ],
 "metadata": {
  "kernelspec": {
   "display_name": "Python 3",
   "language": "python",
   "name": "python3"
  },
  "language_info": {
   "codemirror_mode": {
    "name": "ipython",
    "version": 3
   },
   "file_extension": ".py",
   "mimetype": "text/x-python",
   "name": "python",
   "nbconvert_exporter": "python",
   "pygments_lexer": "ipython3",
   "version": "3.10.12"
  }
 },
 "nbformat": 4,
 "nbformat_minor": 2
}
