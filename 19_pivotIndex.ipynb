{
 "cells": [
  {
   "cell_type": "code",
   "execution_count": 51,
   "metadata": {},
   "outputs": [],
   "source": [
    "\"\"\"\n",
    "Input: nums = [1,7,3,6,5,6]\n",
    "Output (index): 3\n",
    "\n",
    "\"\"\"\n",
    "def pivotIndex(nums):\n",
    "    n = len(nums)\n",
    "\n",
    "    # prefix sum\n",
    "    ps = [0]*n\n",
    "    ps[0] = nums[0]\n",
    "    for i in range(1,n):\n",
    "        ps[i] = ps[i-1] + nums[i]\n",
    "    \n",
    "    # suffix sum\n",
    "    ss = [0]*n\n",
    "    ss[-1] = nums[-1]\n",
    "    for i in range(n-2,-1,-1):\n",
    "        ss[i] = ss[i+1] + nums[i]\n",
    "\n",
    "\n",
    "    # finding equi index\n",
    "    if ss[1] == 0:\n",
    "        return 0\n",
    "\n",
    "    for i in range(1,n-1):\n",
    "        if i == 0 and ss[i+1] == 0:\n",
    "            return i\n",
    "        elif i == n-1 and ps[i-1] == 0:\n",
    "            return i\n",
    "        elif i == n-1 and ps[i-1] != 0:\n",
    "            continue\n",
    "        elif ps[i-1] == ss[i+1]:\n",
    "            return i\n",
    "    if ps[n-2] == 0:\n",
    "        return n-1\n",
    "    return -1\n"
   ]
  },
  {
   "cell_type": "code",
   "execution_count": 55,
   "metadata": {},
   "outputs": [
    {
     "data": {
      "text/plain": [
       "5"
      ]
     },
     "execution_count": 55,
     "metadata": {},
     "output_type": "execute_result"
    }
   ],
   "source": [
    "nums = [-1,-1,1,1,0,0]\n",
    "pivotIndex(nums)"
   ]
  },
  {
   "cell_type": "code",
   "execution_count": 56,
   "metadata": {},
   "outputs": [],
   "source": [
    "def pivotIndex2(nums):\n",
    "    leftsum, rightsum = 0 , sum(nums)\n",
    "    for idx,n in enumerate(nums):\n",
    "        rightsum -= n\n",
    "        if leftsum == rightsum:\n",
    "            return idx\n",
    "        leftsum += n\n",
    "    return -1"
   ]
  },
  {
   "cell_type": "code",
   "execution_count": 57,
   "metadata": {},
   "outputs": [
    {
     "data": {
      "text/plain": [
       "4"
      ]
     },
     "execution_count": 57,
     "metadata": {},
     "output_type": "execute_result"
    }
   ],
   "source": [
    "nums = [-1,-1,1,1,0,0]\n",
    "pivotIndex2(nums)"
   ]
  }
 ],
 "metadata": {
  "kernelspec": {
   "display_name": "Python 3",
   "language": "python",
   "name": "python3"
  },
  "language_info": {
   "codemirror_mode": {
    "name": "ipython",
    "version": 3
   },
   "file_extension": ".py",
   "mimetype": "text/x-python",
   "name": "python",
   "nbconvert_exporter": "python",
   "pygments_lexer": "ipython3",
   "version": "3.10.12"
  }
 },
 "nbformat": 4,
 "nbformat_minor": 2
}
