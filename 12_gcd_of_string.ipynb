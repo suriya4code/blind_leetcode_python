{
 "cells": [
  {
   "cell_type": "code",
   "execution_count": 7,
   "metadata": {},
   "outputs": [],
   "source": [
    "def gcdOfStrings(str1, str2):\n",
    "    ans = \"\"\n",
    "    if str1 in str2:\n",
    "        ans =  str1\n",
    "    elif str2 in str1:\n",
    "        ans = str2\n",
    "    else:\n",
    "        return \"\"\n",
    "    ret, cur_ans = \"\",\"\"\n",
    "    i = 0\n",
    "    while i<len(ans):\n",
    "        ret = ret + ans[i]\n",
    "        if ret in ans:\n",
    "            cur_ans = ret\n",
    "    return cur_ans\n",
    "    \n"
   ]
  },
  {
   "cell_type": "code",
   "execution_count": 8,
   "metadata": {},
   "outputs": [
    {
     "ename": "AttributeError",
     "evalue": "'str' object has no attribute 'pop'",
     "output_type": "error",
     "traceback": [
      "\u001b[0;31m---------------------------------------------------------------------------\u001b[0m",
      "\u001b[0;31mAttributeError\u001b[0m                            Traceback (most recent call last)",
      "Input \u001b[0;32mIn [8]\u001b[0m, in \u001b[0;36m<cell line: 2>\u001b[0;34m()\u001b[0m\n\u001b[1;32m      1\u001b[0m \u001b[38;5;66;03m# gcdOfStrings(\"ABCABC\", \"ABC\")\u001b[39;00m\n\u001b[0;32m----> 2\u001b[0m \u001b[43mgcdOfStrings\u001b[49m\u001b[43m(\u001b[49m\u001b[38;5;124;43m\"\u001b[39;49m\u001b[38;5;124;43mABABAB\u001b[39;49m\u001b[38;5;124;43m\"\u001b[39;49m\u001b[43m,\u001b[49m\u001b[43m \u001b[49m\u001b[38;5;124;43m\"\u001b[39;49m\u001b[38;5;124;43mABAB\u001b[39;49m\u001b[38;5;124;43m\"\u001b[39;49m\u001b[43m)\u001b[49m\n",
      "Input \u001b[0;32mIn [7]\u001b[0m, in \u001b[0;36mgcdOfStrings\u001b[0;34m(str1, str2)\u001b[0m\n\u001b[1;32m     10\u001b[0m cur_ans \u001b[38;5;241m=\u001b[39m \u001b[38;5;124m\"\u001b[39m\u001b[38;5;124m\"\u001b[39m\n\u001b[1;32m     11\u001b[0m \u001b[38;5;28;01mwhile\u001b[39;00m \u001b[38;5;28mlen\u001b[39m(ans)\u001b[38;5;241m>\u001b[39m\u001b[38;5;241m0\u001b[39m:\n\u001b[0;32m---> 12\u001b[0m     ret \u001b[38;5;241m=\u001b[39m ret \u001b[38;5;241m+\u001b[39m \u001b[43mans\u001b[49m\u001b[38;5;241;43m.\u001b[39;49m\u001b[43mpop\u001b[49m(\u001b[38;5;241m0\u001b[39m)\n\u001b[1;32m     13\u001b[0m     \u001b[38;5;28;01mif\u001b[39;00m ret \u001b[38;5;129;01min\u001b[39;00m ans:\n\u001b[1;32m     14\u001b[0m         cur_ans \u001b[38;5;241m=\u001b[39m ret\n",
      "\u001b[0;31mAttributeError\u001b[0m: 'str' object has no attribute 'pop'"
     ]
    }
   ],
   "source": [
    "# gcdOfStrings(\"ABCABC\", \"ABC\")\n",
    "gcdOfStrings(\"ABABAB\", \"ABAB\")"
   ]
  }
 ],
 "metadata": {
  "kernelspec": {
   "display_name": "Python 3",
   "language": "python",
   "name": "python3"
  },
  "language_info": {
   "codemirror_mode": {
    "name": "ipython",
    "version": 3
   },
   "file_extension": ".py",
   "mimetype": "text/x-python",
   "name": "python",
   "nbconvert_exporter": "python",
   "pygments_lexer": "ipython3",
   "version": "3.10.12"
  }
 },
 "nbformat": 4,
 "nbformat_minor": 2
}
