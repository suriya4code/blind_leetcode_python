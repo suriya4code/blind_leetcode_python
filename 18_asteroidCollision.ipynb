{
 "cells": [
  {
   "cell_type": "code",
   "execution_count": 42,
   "metadata": {},
   "outputs": [],
   "source": [
    "\"\"\"\n",
    "Input: asteroids = [5,10,-5]\n",
    "Output: [5,10]\n",
    "Explanation: The 10 and -5 collide resulting in 10. The 5 and 10 never collide.\n",
    "\n",
    "Input: asteroids = [8,-8]\n",
    "Output: []\n",
    "Explanation: The 8 and -8 collide exploding each other.\n",
    "\n",
    "Input: asteroids = [10,2,-5]\n",
    "Output: [10]\n",
    "Explanation: The 2 and -5 collide resulting in -5. The 10 and -5 collide resulting in 10.\n",
    "\"\"\"\n",
    "def asteroidCollision(asteroids):\n",
    "    \"\"\"\n",
    "    1. if symbol changes check collision\n",
    "    \"\"\"\n",
    "    stack = []\n",
    "    for i in asteroids:\n",
    "        while stack and stack[-1]>0>i:\n",
    "            if stack[-1] < abs(i):\n",
    "                stack.pop()\n",
    "                continue\n",
    "            elif stack[-1] == abs(i):\n",
    "                stack.pop()\n",
    "            break\n",
    "        else:\n",
    "            stack.append(i)\n",
    "    return stack"
   ]
  },
  {
   "cell_type": "code",
   "execution_count": 43,
   "metadata": {},
   "outputs": [
    {
     "data": {
      "text/plain": [
       "[-1, -2, 1, 2]"
      ]
     },
     "execution_count": 43,
     "metadata": {},
     "output_type": "execute_result"
    }
   ],
   "source": [
    "asteroids = [5,10,-5]\n",
    "# asteroids = [5,-5]\n",
    "# asteroids = [10,2,-5]\n",
    "asteroids = [-1,-2,1,2]\n",
    "asteroidCollision(asteroids)"
   ]
  }
 ],
 "metadata": {
  "kernelspec": {
   "display_name": "Python 3",
   "language": "python",
   "name": "python3"
  },
  "language_info": {
   "codemirror_mode": {
    "name": "ipython",
    "version": 3
   },
   "file_extension": ".py",
   "mimetype": "text/x-python",
   "name": "python",
   "nbconvert_exporter": "python",
   "pygments_lexer": "ipython3",
   "version": "3.10.12"
  }
 },
 "nbformat": 4,
 "nbformat_minor": 2
}
