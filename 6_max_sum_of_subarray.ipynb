{
 "cells": [
  {
   "cell_type": "code",
   "execution_count": 34,
   "metadata": {},
   "outputs": [],
   "source": [
    "# Brute Forece\n",
    "from math import inf\n",
    "\n",
    "def maxSubArray(nums):\n",
    "    ans = -inf\n",
    "    for i in range(len(nums)):\n",
    "        cur_sum = 0\n",
    "        for j in range(i, len(nums)):\n",
    "            cur_sum += nums[j]\n",
    "            ans = max(ans, cur_sum)\n",
    "    return ans"
   ]
  },
  {
   "cell_type": "code",
   "execution_count": 35,
   "metadata": {},
   "outputs": [
    {
     "data": {
      "text/plain": [
       "49995000"
      ]
     },
     "execution_count": 35,
     "metadata": {},
     "output_type": "execute_result"
    }
   ],
   "source": [
    "maxSubArray(nums=range(10000))"
   ]
  },
  {
   "cell_type": "code",
   "execution_count": 36,
   "metadata": {},
   "outputs": [],
   "source": [
    "def maxSubArray2(nums):\n",
    "    def solve(i, must_pick):\n",
    "        if i >= len(nums): return 0 if must_pick else -inf\n",
    "        return max(nums[i] + solve(i+1, True), 0 if must_pick else solve(i+1, False))\n",
    "    return solve(0, False)"
   ]
  },
  {
   "cell_type": "code",
   "execution_count": 37,
   "metadata": {},
   "outputs": [
    {
     "data": {
      "text/plain": [
       "14"
      ]
     },
     "execution_count": 37,
     "metadata": {},
     "output_type": "execute_result"
    }
   ],
   "source": [
    "maxSubArray2([2,3,4,5,-2])"
   ]
  },
  {
   "cell_type": "markdown",
   "metadata": {},
   "source": [
    "                                                f(0, False)                       🔽 => repeated calculations\n",
    "\t\t\t\t\t                          /             \\ \n",
    "                       \t\t       f(1, False)              f(1, True)\n",
    "\t\t\t                      /          \\       🔽          \\      🔽\n",
    "\t\t\t                 f(2, False)      f(2, True)           f(2, True)\n",
    "\t\t\t\t\t\t\t/            \\  🔽       \\   🔽           \\  🔽\n",
    "\t\t\t\t\t\tf(3, False)   f(3,True)     f(3, True)           f(3, True)\n",
    "\t\t\t\t\t\t/        \\            \\           \\                  \\\n",
    "\t\t\t\t      ...        ...          ...         ...                ..."
   ]
  },
  {
   "cell_type": "code",
   "execution_count": 38,
   "metadata": {},
   "outputs": [],
   "source": [
    "def maxSubArray3(nums):\n",
    "    dp = [*nums]\n",
    "    for i in range(1, len(nums)):\n",
    "        dp[i] = max(nums[i], nums[i] + dp[i-1])\n",
    "    return max(dp)"
   ]
  },
  {
   "cell_type": "code",
   "execution_count": 39,
   "metadata": {},
   "outputs": [
    {
     "data": {
      "text/plain": [
       "49995000"
      ]
     },
     "execution_count": 39,
     "metadata": {},
     "output_type": "execute_result"
    }
   ],
   "source": [
    "maxSubArray3(nums=range(10000))"
   ]
  },
  {
   "cell_type": "code",
   "execution_count": 40,
   "metadata": {},
   "outputs": [],
   "source": [
    "# Kadane's Algorithm\n",
    "def maxSubArray4(nums):\n",
    "    cur_max, max_till_now = 0, -inf\n",
    "    for c in nums:\n",
    "        cur_max = max(c, cur_max + c)\n",
    "        max_till_now = max(max_till_now, cur_max)\n",
    "    return max_till_now"
   ]
  },
  {
   "cell_type": "code",
   "execution_count": 41,
   "metadata": {},
   "outputs": [
    {
     "data": {
      "text/plain": [
       "12"
      ]
     },
     "execution_count": 41,
     "metadata": {},
     "output_type": "execute_result"
    }
   ],
   "source": [
    "maxSubArray4([-2,3,4,5,-2])"
   ]
  }
 ],
 "metadata": {
  "kernelspec": {
   "display_name": "Python 3",
   "language": "python",
   "name": "python3"
  },
  "language_info": {
   "codemirror_mode": {
    "name": "ipython",
    "version": 3
   },
   "file_extension": ".py",
   "mimetype": "text/x-python",
   "name": "python",
   "nbconvert_exporter": "python",
   "pygments_lexer": "ipython3",
   "version": "3.10.12"
  }
 },
 "nbformat": 4,
 "nbformat_minor": 2
}
