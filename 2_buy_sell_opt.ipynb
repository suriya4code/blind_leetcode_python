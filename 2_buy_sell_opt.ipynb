{
 "cells": [
  {
   "cell_type": "code",
   "execution_count": 7,
   "metadata": {},
   "outputs": [
    {
     "data": {
      "text/plain": [
       "5"
      ]
     },
     "execution_count": 7,
     "metadata": {},
     "output_type": "execute_result"
    }
   ],
   "source": [
    "prices = [7,1,5,3,6,4]\n",
    "min_buy = prices[0]\n",
    "max_sell = prices[len(prices)-1]\n",
    "for i in range(1, len(prices)-2):\n",
    "    buy = prices[i]\n",
    "    sell = prices[len(prices)-i]\n",
    "    if i<= len(prices)//2:\n",
    "        if buy < min_buy:\n",
    "            min_buy = buy\n",
    "        if sell > max_sell:\n",
    "            max_sell = sell\n",
    "max((max_sell-min_buy),0)\n",
    " "
   ]
  },
  {
   "cell_type": "code",
   "execution_count": 2,
   "metadata": {},
   "outputs": [
    {
     "data": {
      "text/plain": [
       "6"
      ]
     },
     "execution_count": 2,
     "metadata": {},
     "output_type": "execute_result"
    }
   ],
   "source": [
    "prices = [7,1,5,3,6,4,7]\n",
    "min_buy = prices[0]\n",
    "max_profit = 0\n",
    "\n",
    "for i in prices:\n",
    "    if i < min_buy:\n",
    "        min_buy = i\n",
    "    if i-min_buy > max_profit:\n",
    "        max_profit = i-min_buy\n",
    "\n",
    "max_profit"
   ]
  }
 ],
 "metadata": {
  "kernelspec": {
   "display_name": "Python 3",
   "language": "python",
   "name": "python3"
  },
  "language_info": {
   "codemirror_mode": {
    "name": "ipython",
    "version": 3
   },
   "file_extension": ".py",
   "mimetype": "text/x-python",
   "name": "python",
   "nbconvert_exporter": "python",
   "pygments_lexer": "ipython3",
   "version": "3.10.12"
  },
  "orig_nbformat": 4
 },
 "nbformat": 4,
 "nbformat_minor": 2
}
