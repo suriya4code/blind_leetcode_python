{
 "cells": [
  {
   "cell_type": "code",
   "execution_count": 2,
   "metadata": {},
   "outputs": [],
   "source": [
    "class ListNode:\n",
    "    def __init__(self, val=0, next=None):\n",
    "        self.val = val\n",
    "        self.next = next"
   ]
  },
  {
   "cell_type": "code",
   "execution_count": 10,
   "metadata": {},
   "outputs": [],
   "source": [
    "def deleteMiddle(head):\n",
    "    if head.next == None:\n",
    "        return None\n",
    "    n = head\n",
    "    i = 0\n",
    "    while n != None:\n",
    "        n = n.next\n",
    "        i += 1\n",
    "    mid = i//2 - 1\n",
    "    n = head\n",
    "    i = 0\n",
    "    while n != None:\n",
    "        if i == mid:\n",
    "            n.next = n.next.next\n",
    "            break\n",
    "        n = n.next\n",
    "        i += 1\n",
    "    return head       \n"
   ]
  },
  {
   "cell_type": "code",
   "execution_count": 11,
   "metadata": {},
   "outputs": [],
   "source": [
    "# [1,3,4,7,1,2,6]\n",
    "\n",
    "# head = ListNode(1,ListNode(3,ListNode(4,ListNode(7,None))))\n",
    "head = ListNode(1,None)\n",
    "h = deleteMiddle(head)\n",
    "\n",
    "while h != None:\n",
    "    print(h.val)\n",
    "    h = h.next"
   ]
  },
  {
   "cell_type": "code",
   "execution_count": 12,
   "metadata": {},
   "outputs": [],
   "source": [
    "\n",
    "def deleteMiddle2(head):\n",
    "    if head == None:\n",
    "        return \n",
    "    if head.next == None:\n",
    "        return \n",
    "\n",
    "    slow = head\n",
    "    fast = head\n",
    "    fast = fast.next.next\n",
    "\n",
    "    while fast != None and fast.next != None:\n",
    "        fast = fast.next.next\n",
    "        slow = slow.next\n",
    "    \n",
    "    slow.next = slow.next.next\n",
    "\n",
    "    return head"
   ]
  },
  {
   "cell_type": "code",
   "execution_count": 14,
   "metadata": {},
   "outputs": [
    {
     "name": "stdout",
     "output_type": "stream",
     "text": [
      "1\n",
      "3\n",
      "7\n"
     ]
    }
   ],
   "source": [
    "head = ListNode(1,ListNode(3,ListNode(4,ListNode(7,None))))\n",
    "\n",
    "h = deleteMiddle2(head)\n",
    "\n",
    "while h != None:\n",
    "    print(h.val)\n",
    "    h = h.next"
   ]
  }
 ],
 "metadata": {
  "kernelspec": {
   "display_name": "Python 3",
   "language": "python",
   "name": "python3"
  },
  "language_info": {
   "codemirror_mode": {
    "name": "ipython",
    "version": 3
   },
   "file_extension": ".py",
   "mimetype": "text/x-python",
   "name": "python",
   "nbconvert_exporter": "python",
   "pygments_lexer": "ipython3",
   "version": "3.10.12"
  }
 },
 "nbformat": 4,
 "nbformat_minor": 2
}
