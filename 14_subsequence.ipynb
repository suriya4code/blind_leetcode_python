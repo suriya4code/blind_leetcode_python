{
 "cells": [
  {
   "cell_type": "code",
   "execution_count": 4,
   "metadata": {},
   "outputs": [],
   "source": [
    "# Input: s = \"abc\", t = \"ahbgdc\"\n",
    "# Output: true\n",
    "\n",
    "# Input: s = \"axc\", t = \"ahbgdc\"\n",
    "# Output: false\n",
    "\n",
    "def isSubsequence(s:str, t:str):\n",
    "    if s == \"\": return True\n",
    "    i = 0\n",
    "    for c in t:\n",
    "        if c == s[i]:\n",
    "            i +=1\n",
    "    return i == len(s)"
   ]
  },
  {
   "cell_type": "code",
   "execution_count": 5,
   "metadata": {},
   "outputs": [
    {
     "data": {
      "text/plain": [
       "True"
      ]
     },
     "execution_count": 5,
     "metadata": {},
     "output_type": "execute_result"
    }
   ],
   "source": [
    "s = \"abc\"\n",
    "t = \"ahbgdc\"\n",
    "isSubsequence(s,t)"
   ]
  }
 ],
 "metadata": {
  "kernelspec": {
   "display_name": "Python 3",
   "language": "python",
   "name": "python3"
  },
  "language_info": {
   "codemirror_mode": {
    "name": "ipython",
    "version": 3
   },
   "file_extension": ".py",
   "mimetype": "text/x-python",
   "name": "python",
   "nbconvert_exporter": "python",
   "pygments_lexer": "ipython3",
   "version": "3.10.12"
  }
 },
 "nbformat": 4,
 "nbformat_minor": 2
}
